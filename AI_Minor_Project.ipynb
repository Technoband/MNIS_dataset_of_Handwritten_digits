{
  "nbformat": 4,
  "nbformat_minor": 0,
  "metadata": {
    "colab": {
      "provenance": [],
      "include_colab_link": true
    },
    "kernelspec": {
      "name": "python3",
      "display_name": "Python 3"
    },
    "language_info": {
      "name": "python"
    },
    "accelerator": "GPU"
  },
  "cells": [
    {
      "cell_type": "markdown",
      "metadata": {
        "id": "view-in-github",
        "colab_type": "text"
      },
      "source": [
        "<a href=\"https://colab.research.google.com/github/Technoband/MNIS_dataset_of_Handwritten_digits/blob/main/AI_Minor_Project.ipynb\" target=\"_parent\"><img src=\"https://colab.research.google.com/assets/colab-badge.svg\" alt=\"Open In Colab\"/></a>"
      ]
    },
    {
      "cell_type": "code",
      "execution_count": null,
      "metadata": {
        "id": "W2oWgd_AjwVO"
      },
      "outputs": [],
      "source": [
        "# AI Minor Project based on MNISt dataset of Handwritten digits"
      ]
    },
    {
      "cell_type": "code",
      "source": [
        "import tensorflow as tf"
      ],
      "metadata": {
        "id": "yh72Htj6py48"
      },
      "execution_count": null,
      "outputs": []
    },
    {
      "cell_type": "code",
      "source": [
        "from tensorflow import keras"
      ],
      "metadata": {
        "id": "Bq_TiGMTqK-v"
      },
      "execution_count": null,
      "outputs": []
    },
    {
      "cell_type": "code",
      "source": [
        "(x_train, y_train), (x_test, y_test) = tf.keras.datasets.fashion_mnist.load_data()\n"
      ],
      "metadata": {
        "id": "ZYqkIFwOqv0s",
        "colab": {
          "base_uri": "https://localhost:8080/"
        },
        "outputId": "3e3ca88a-b697-4ef3-f527-7dae88e52a29"
      },
      "execution_count": null,
      "outputs": [
        {
          "output_type": "stream",
          "name": "stdout",
          "text": [
            "Downloading data from https://storage.googleapis.com/tensorflow/tf-keras-datasets/train-labels-idx1-ubyte.gz\n",
            "32768/29515 [=================================] - 0s 0us/step\n",
            "40960/29515 [=========================================] - 0s 0us/step\n",
            "Downloading data from https://storage.googleapis.com/tensorflow/tf-keras-datasets/train-images-idx3-ubyte.gz\n",
            "26427392/26421880 [==============================] - 0s 0us/step\n",
            "26435584/26421880 [==============================] - 0s 0us/step\n",
            "Downloading data from https://storage.googleapis.com/tensorflow/tf-keras-datasets/t10k-labels-idx1-ubyte.gz\n",
            "16384/5148 [===============================================================================================] - 0s 0us/step\n",
            "Downloading data from https://storage.googleapis.com/tensorflow/tf-keras-datasets/t10k-images-idx3-ubyte.gz\n",
            "4423680/4422102 [==============================] - 0s 0us/step\n",
            "4431872/4422102 [==============================] - 0s 0us/step\n"
          ]
        }
      ]
    },
    {
      "cell_type": "code",
      "source": [
        "x_train.shape"
      ],
      "metadata": {
        "colab": {
          "base_uri": "https://localhost:8080/"
        },
        "id": "SRK5nE2ArbB0",
        "outputId": "1d08dc45-c535-4254-862b-4be25e5503ec"
      },
      "execution_count": null,
      "outputs": [
        {
          "output_type": "execute_result",
          "data": {
            "text/plain": [
              "(60000, 28, 28)"
            ]
          },
          "metadata": {},
          "execution_count": 5
        }
      ]
    },
    {
      "cell_type": "code",
      "source": [
        "y_train.shape"
      ],
      "metadata": {
        "colab": {
          "base_uri": "https://localhost:8080/"
        },
        "id": "LiKPBVSpslyQ",
        "outputId": "040fc0a2-5ab2-40de-8783-39c58968a07a"
      },
      "execution_count": null,
      "outputs": [
        {
          "output_type": "execute_result",
          "data": {
            "text/plain": [
              "(60000,)"
            ]
          },
          "metadata": {},
          "execution_count": 6
        }
      ]
    },
    {
      "cell_type": "code",
      "source": [
        "x_test.shape"
      ],
      "metadata": {
        "colab": {
          "base_uri": "https://localhost:8080/"
        },
        "id": "VNKJxmtvstgc",
        "outputId": "8b70fd48-37e7-4f21-b361-93b27878dc99"
      },
      "execution_count": null,
      "outputs": [
        {
          "output_type": "execute_result",
          "data": {
            "text/plain": [
              "(10000, 28, 28)"
            ]
          },
          "metadata": {},
          "execution_count": 7
        }
      ]
    },
    {
      "cell_type": "code",
      "source": [
        "y_test.shape"
      ],
      "metadata": {
        "colab": {
          "base_uri": "https://localhost:8080/"
        },
        "id": "V_uXmN4QswLA",
        "outputId": "1f034ce1-ddb4-47ad-d9d7-0744967925b8"
      },
      "execution_count": null,
      "outputs": [
        {
          "output_type": "execute_result",
          "data": {
            "text/plain": [
              "(10000,)"
            ]
          },
          "metadata": {},
          "execution_count": 8
        }
      ]
    },
    {
      "cell_type": "code",
      "source": [
        "#assigning the labels\n",
        "label ='T-shirt/top','Trouser','Pullover','Dress','Coat','Sandal','Shirt','Shoes','Bag','Ankle boot'\n",
        "label"
      ],
      "metadata": {
        "colab": {
          "base_uri": "https://localhost:8080/"
        },
        "id": "mVmw1wAKwJcF",
        "outputId": "3c697b0f-479f-4b8f-af28-6d1151d04061"
      },
      "execution_count": null,
      "outputs": [
        {
          "output_type": "execute_result",
          "data": {
            "text/plain": [
              "('T-shirt/top',\n",
              " 'Trouser',\n",
              " 'Pullover',\n",
              " 'Dress',\n",
              " 'Coat',\n",
              " 'Sandal',\n",
              " 'Shirt',\n",
              " 'Shoes',\n",
              " 'Bag',\n",
              " 'Ankle boot')"
            ]
          },
          "metadata": {},
          "execution_count": 9
        }
      ]
    },
    {
      "cell_type": "code",
      "source": [
        "import matplotlib.pyplot as plt\n",
        "plt.imshow(x_train[7674], cmap='gray')\n",
        "plt.show()\n",
        "print(f\"Output: {label[y_train[7674]]}\")"
      ],
      "metadata": {
        "colab": {
          "base_uri": "https://localhost:8080/",
          "height": 282
        },
        "id": "8qJ_rhMqxL_8",
        "outputId": "2ca24e0c-b157-44b3-ccf1-be9801a6b639"
      },
      "execution_count": null,
      "outputs": [
        {
          "output_type": "display_data",
          "data": {
            "text/plain": [
              "<Figure size 432x288 with 1 Axes>"
            ],
            "image/png": "[encoded data removed]"
          },
          "metadata": {
            "needs_background": "light"
          }
        },
        {
          "output_type": "stream",
          "name": "stdout",
          "text": [
            "Output: Dress\n"
          ]
        }
      ]
    },
    {
      "cell_type": "code",
      "source": [
        "x_train[0]\n"
      ],
      "metadata": {
        "colab": {
          "base_uri": "https://localhost:8080/"
        },
        "id": "t5jIujPmyNlf",
        "outputId": "f56eeae1-0a99-4454-d074-0c9d5b6205d3"
      },
      "execution_count": null,
      "outputs": [
        {
          "output_type": "execute_result",
          "data": {
            "text/plain": [
              "array([[  0,   0,   0,   0,   0,   0,   0,   0,   0,   0,   0,   0,   0,\n",
              "          0,   0,   0,   0,   0,   0,   0,   0,   0,   0,   0,   0,   0,\n",
              "          0,   0],\n",
              "       [  0,   0,   0,   0,   0,   0,   0,   0,   0,   0,   0,   0,   0,\n",
              "          0,   0,   0,   0,   0,   0,   0,   0,   0,   0,   0,   0,   0,\n",
              "          0,   0],\n",
              "       [  0,   0,   0,   0,   0,   0,   0,   0,   0,   0,   0,   0,   0,\n",
              "          0,   0,   0,   0,   0,   0,   0,   0,   0,   0,   0,   0,   0,\n",
              "          0,   0],\n",
              "       [  0,   0,   0,   0,   0,   0,   0,   0,   0,   0,   0,   0,   1,\n",
              "          0,   0,  13,  73,   0,   0,   1,   4,   0,   0,   0,   0,   1,\n",
              "          1,   0],\n",
              "       [  0,   0,   0,   0,   0,   0,   0,   0,   0,   0,   0,   0,   3,\n",
              "          0,  36, 136, 127,  62,  54,   0,   0,   0,   1,   3,   4,   0,\n",
              "          0,   3],\n",
              "       [  0,   0,   0,   0,   0,   0,   0,   0,   0,   0,   0,   0,   6,\n",
              "          0, 102, 204, 176, 134, 144, 123,  23,   0,   0,   0,   0,  12,\n",
              "         10,   0],\n",
              "       [  0,   0,   0,   0,   0,   0,   0,   0,   0,   0,   0,   0,   0,\n",
              "          0, 155, 236, 207, 178, 107, 156, 161, 109,  64,  23,  77, 130,\n",
              "         72,  15],\n",
              "       [  0,   0,   0,   0,   0,   0,   0,   0,   0,   0,   0,   1,   0,\n",
              "         69, 207, 223, 218, 216, 216, 163, 127, 121, 122, 146, 141,  88,\n",
              "        172,  66],\n",
              "       [  0,   0,   0,   0,   0,   0,   0,   0,   0,   1,   1,   1,   0,\n",
              "        200, 232, 232, 233, 229, 223, 223, 215, 213, 164, 127, 123, 196,\n",
              "        229,   0],\n",
              "       [  0,   0,   0,   0,   0,   0,   0,   0,   0,   0,   0,   0,   0,\n",
              "        183, 225, 216, 223, 228, 235, 227, 224, 222, 224, 221, 223, 245,\n",
              "        173,   0],\n",
              "       [  0,   0,   0,   0,   0,   0,   0,   0,   0,   0,   0,   0,   0,\n",
              "        193, 228, 218, 213, 198, 180, 212, 210, 211, 213, 223, 220, 243,\n",
              "        202,   0],\n",
              "       [  0,   0,   0,   0,   0,   0,   0,   0,   0,   1,   3,   0,  12,\n",
              "        219, 220, 212, 218, 192, 169, 227, 208, 218, 224, 212, 226, 197,\n",
              "        209,  52],\n",
              "       [  0,   0,   0,   0,   0,   0,   0,   0,   0,   0,   6,   0,  99,\n",
              "        244, 222, 220, 218, 203, 198, 221, 215, 213, 222, 220, 245, 119,\n",
              "        167,  56],\n",
              "       [  0,   0,   0,   0,   0,   0,   0,   0,   0,   4,   0,   0,  55,\n",
              "        236, 228, 230, 228, 240, 232, 213, 218, 223, 234, 217, 217, 209,\n",
              "         92,   0],\n",
              "       [  0,   0,   1,   4,   6,   7,   2,   0,   0,   0,   0,   0, 237,\n",
              "        226, 217, 223, 222, 219, 222, 221, 216, 223, 229, 215, 218, 255,\n",
              "         77,   0],\n",
              "       [  0,   3,   0,   0,   0,   0,   0,   0,   0,  62, 145, 204, 228,\n",
              "        207, 213, 221, 218, 208, 211, 218, 224, 223, 219, 215, 224, 244,\n",
              "        159,   0],\n",
              "       [  0,   0,   0,   0,  18,  44,  82, 107, 189, 228, 220, 222, 217,\n",
              "        226, 200, 205, 211, 230, 224, 234, 176, 188, 250, 248, 233, 238,\n",
              "        215,   0],\n",
              "       [  0,  57, 187, 208, 224, 221, 224, 208, 204, 214, 208, 209, 200,\n",
              "        159, 245, 193, 206, 223, 255, 255, 221, 234, 221, 211, 220, 232,\n",
              "        246,   0],\n",
              "       [  3, 202, 228, 224, 221, 211, 211, 214, 205, 205, 205, 220, 240,\n",
              "         80, 150, 255, 229, 221, 188, 154, 191, 210, 204, 209, 222, 228,\n",
              "        225,   0],\n",
              "       [ 98, 233, 198, 210, 222, 229, 229, 234, 249, 220, 194, 215, 217,\n",
              "        241,  65,  73, 106, 117, 168, 219, 221, 215, 217, 223, 223, 224,\n",
              "        229,  29],\n",
              "       [ 75, 204, 212, 204, 193, 205, 211, 225, 216, 185, 197, 206, 198,\n",
              "        213, 240, 195, 227, 245, 239, 223, 218, 212, 209, 222, 220, 221,\n",
              "        230,  67],\n",
              "       [ 48, 203, 183, 194, 213, 197, 185, 190, 194, 192, 202, 214, 219,\n",
              "        221, 220, 236, 225, 216, 199, 206, 186, 181, 177, 172, 181, 205,\n",
              "        206, 115],\n",
              "       [  0, 122, 219, 193, 179, 171, 183, 196, 204, 210, 213, 207, 211,\n",
              "        210, 200, 196, 194, 191, 195, 191, 198, 192, 176, 156, 167, 177,\n",
              "        210,  92],\n",
              "       [  0,   0,  74, 189, 212, 191, 175, 172, 175, 181, 185, 188, 189,\n",
              "        188, 193, 198, 204, 209, 210, 210, 211, 188, 188, 194, 192, 216,\n",
              "        170,   0],\n",
              "       [  2,   0,   0,   0,  66, 200, 222, 237, 239, 242, 246, 243, 244,\n",
              "        221, 220, 193, 191, 179, 182, 182, 181, 176, 166, 168,  99,  58,\n",
              "          0,   0],\n",
              "       [  0,   0,   0,   0,   0,   0,   0,  40,  61,  44,  72,  41,  35,\n",
              "          0,   0,   0,   0,   0,   0,   0,   0,   0,   0,   0,   0,   0,\n",
              "          0,   0],\n",
              "       [  0,   0,   0,   0,   0,   0,   0,   0,   0,   0,   0,   0,   0,\n",
              "          0,   0,   0,   0,   0,   0,   0,   0,   0,   0,   0,   0,   0,\n",
              "          0,   0],\n",
              "       [  0,   0,   0,   0,   0,   0,   0,   0,   0,   0,   0,   0,   0,\n",
              "          0,   0,   0,   0,   0,   0,   0,   0,   0,   0,   0,   0,   0,\n",
              "          0,   0]], dtype=uint8)"
            ]
          },
          "metadata": {},
          "execution_count": 12
        }
      ]
    },
    {
      "cell_type": "code",
      "source": [
        "y_train"
      ],
      "metadata": {
        "colab": {
          "base_uri": "https://localhost:8080/"
        },
        "id": "6vf4Q43P3xpq",
        "outputId": "0c49ba28-6f68-4889-d982-782c33bdde48"
      },
      "execution_count": null,
      "outputs": [
        {
          "output_type": "execute_result",
          "data": {
            "text/plain": [
              "array([9, 0, 0, ..., 3, 0, 5], dtype=uint8)"
            ]
          },
          "metadata": {},
          "execution_count": 13
        }
      ]
    },
    {
      "cell_type": "code",
      "source": [
        "x_train[0].max()"
      ],
      "metadata": {
        "colab": {
          "base_uri": "https://localhost:8080/"
        },
        "id": "mTlvAfph3zsN",
        "outputId": "4941f927-a6ec-4d19-c4c6-c2e16a75fb19"
      },
      "execution_count": null,
      "outputs": [
        {
          "output_type": "execute_result",
          "data": {
            "text/plain": [
              "255"
            ]
          },
          "metadata": {},
          "execution_count": 14
        }
      ]
    },
    {
      "cell_type": "code",
      "source": [
        "x_train[0].min()\n"
      ],
      "metadata": {
        "colab": {
          "base_uri": "https://localhost:8080/"
        },
        "id": "F0DY1Gmx4CZC",
        "outputId": "336896f3-8f86-4678-98b3-1aebd8da92b9"
      },
      "execution_count": null,
      "outputs": [
        {
          "output_type": "execute_result",
          "data": {
            "text/plain": [
              "0"
            ]
          },
          "metadata": {},
          "execution_count": 15
        }
      ]
    },
    {
      "cell_type": "code",
      "source": [
        "x_train= x_train/255\n",
        "x_test= x_test/255"
      ],
      "metadata": {
        "id": "FnFfLTJC4JZr"
      },
      "execution_count": null,
      "outputs": []
    },
    {
      "cell_type": "code",
      "source": [],
      "metadata": {
        "id": "v3FqYiZJ58L1"
      },
      "execution_count": null,
      "outputs": []
    },
    {
      "cell_type": "code",
      "source": [
        "[x_train][0]"
      ],
      "metadata": {
        "colab": {
          "base_uri": "https://localhost:8080/"
        },
        "id": "zchMozYw4zQo",
        "outputId": "adb35616-6421-410d-bd37-ee424e858edf"
      },
      "execution_count": null,
      "outputs": [
        {
          "output_type": "execute_result",
          "data": {
            "text/plain": [
              "array([[[0., 0., 0., ..., 0., 0., 0.],\n",
              "        [0., 0., 0., ..., 0., 0., 0.],\n",
              "        [0., 0., 0., ..., 0., 0., 0.],\n",
              "        ...,\n",
              "        [0., 0., 0., ..., 0., 0., 0.],\n",
              "        [0., 0., 0., ..., 0., 0., 0.],\n",
              "        [0., 0., 0., ..., 0., 0., 0.]],\n",
              "\n",
              "       [[0., 0., 0., ..., 0., 0., 0.],\n",
              "        [0., 0., 0., ..., 0., 0., 0.],\n",
              "        [0., 0., 0., ..., 0., 0., 0.],\n",
              "        ...,\n",
              "        [0., 0., 0., ..., 0., 0., 0.],\n",
              "        [0., 0., 0., ..., 0., 0., 0.],\n",
              "        [0., 0., 0., ..., 0., 0., 0.]],\n",
              "\n",
              "       [[0., 0., 0., ..., 0., 0., 0.],\n",
              "        [0., 0., 0., ..., 0., 0., 0.],\n",
              "        [0., 0., 0., ..., 0., 0., 0.],\n",
              "        ...,\n",
              "        [0., 0., 0., ..., 0., 0., 0.],\n",
              "        [0., 0., 0., ..., 0., 0., 0.],\n",
              "        [0., 0., 0., ..., 0., 0., 0.]],\n",
              "\n",
              "       ...,\n",
              "\n",
              "       [[0., 0., 0., ..., 0., 0., 0.],\n",
              "        [0., 0., 0., ..., 0., 0., 0.],\n",
              "        [0., 0., 0., ..., 0., 0., 0.],\n",
              "        ...,\n",
              "        [0., 0., 0., ..., 0., 0., 0.],\n",
              "        [0., 0., 0., ..., 0., 0., 0.],\n",
              "        [0., 0., 0., ..., 0., 0., 0.]],\n",
              "\n",
              "       [[0., 0., 0., ..., 0., 0., 0.],\n",
              "        [0., 0., 0., ..., 0., 0., 0.],\n",
              "        [0., 0., 0., ..., 0., 0., 0.],\n",
              "        ...,\n",
              "        [0., 0., 0., ..., 0., 0., 0.],\n",
              "        [0., 0., 0., ..., 0., 0., 0.],\n",
              "        [0., 0., 0., ..., 0., 0., 0.]],\n",
              "\n",
              "       [[0., 0., 0., ..., 0., 0., 0.],\n",
              "        [0., 0., 0., ..., 0., 0., 0.],\n",
              "        [0., 0., 0., ..., 0., 0., 0.],\n",
              "        ...,\n",
              "        [0., 0., 0., ..., 0., 0., 0.],\n",
              "        [0., 0., 0., ..., 0., 0., 0.],\n",
              "        [0., 0., 0., ..., 0., 0., 0.]]])"
            ]
          },
          "metadata": {},
          "execution_count": 17
        }
      ]
    },
    {
      "cell_type": "code",
      "source": [
        "[x_train][0].shape"
      ],
      "metadata": {
        "colab": {
          "base_uri": "https://localhost:8080/"
        },
        "id": "u_GDYlCl5ITR",
        "outputId": "7f8a5a29-371a-4578-850d-e7bea5381b3a"
      },
      "execution_count": null,
      "outputs": [
        {
          "output_type": "execute_result",
          "data": {
            "text/plain": [
              "(60000, 28, 28)"
            ]
          },
          "metadata": {},
          "execution_count": 18
        }
      ]
    },
    {
      "cell_type": "code",
      "source": [
        "# creating Neural networks\n",
        "# input - 784 neurons\n",
        "# hidden - 532 neurons\n",
        "# output - 10 neurons\n",
        "\n",
        "model = tf.keras.Sequential()\n",
        "model.add(tf.keras.layers.Flatten(input_shape = x_train[0].shape))\n",
        "model.add(tf.keras.layers.Dense(532,activation = 'relu'))\n",
        "model.add(tf.keras.layers.Dense(10,activation='softmax'))"
      ],
      "metadata": {
        "id": "N6VoZpLx5ocG"
      },
      "execution_count": null,
      "outputs": []
    },
    {
      "cell_type": "code",
      "source": [
        "model.summary()\n"
      ],
      "metadata": {
        "colab": {
          "base_uri": "https://localhost:8080/"
        },
        "id": "ScfHtLj0-L2v",
        "outputId": "ad8decda-faff-4d04-f438-b3418874ff03"
      },
      "execution_count": null,
      "outputs": [
        {
          "output_type": "stream",
          "name": "stdout",
          "text": [
            "Model: \"sequential\"\n",
            "_________________________________________________________________\n",
            " Layer (type)                Output Shape              Param #   \n",
            "=================================================================\n",
            " flatten (Flatten)           (None, 784)               0         \n",
            "                                                                 \n",
            " dense (Dense)               (None, 532)               417620    \n",
            "                                                                 \n",
            " dense_1 (Dense)             (None, 10)                5330      \n",
            "                                                                 \n",
            "=================================================================\n",
            "Total params: 422,950\n",
            "Trainable params: 422,950\n",
            "Non-trainable params: 0\n",
            "_________________________________________________________________\n"
          ]
        }
      ]
    },
    {
      "cell_type": "code",
      "source": [
        "model.compile(optimizer ='adam', loss = 'sparse_categorical_crossentropy',metrics = 'accuracy')\n"
      ],
      "metadata": {
        "id": "8vEpW4nBAF-y"
      },
      "execution_count": null,
      "outputs": []
    },
    {
      "cell_type": "code",
      "source": [
        "model.fit(x_train,y_train,epochs = 30)"
      ],
      "metadata": {
        "colab": {
          "base_uri": "https://localhost:8080/"
        },
        "id": "VJgHhBHlDS2f",
        "outputId": "e7a5b370-9e92-4283-c18e-bd68c5e7e0ac"
      },
      "execution_count": null,
      "outputs": [
        {
          "output_type": "stream",
          "name": "stdout",
          "text": [
            "Epoch 1/30\n",
            "1875/1875 [==============================] - 6s 2ms/step - loss: 0.4725 - accuracy: 0.8319\n",
            "Epoch 2/30\n",
            "1875/1875 [==============================] - 4s 2ms/step - loss: 0.3559 - accuracy: 0.8693\n",
            "Epoch 3/30\n",
            "1875/1875 [==============================] - 4s 2ms/step - loss: 0.3216 - accuracy: 0.8815\n",
            "Epoch 4/30\n",
            "1875/1875 [==============================] - 4s 2ms/step - loss: 0.2988 - accuracy: 0.8895\n",
            "Epoch 5/30\n",
            "1875/1875 [==============================] - 4s 2ms/step - loss: 0.2794 - accuracy: 0.8952\n",
            "Epoch 6/30\n",
            "1875/1875 [==============================] - 4s 2ms/step - loss: 0.2668 - accuracy: 0.9010\n",
            "Epoch 7/30\n",
            "1875/1875 [==============================] - 4s 2ms/step - loss: 0.2524 - accuracy: 0.9054\n",
            "Epoch 8/30\n",
            "1875/1875 [==============================] - 4s 2ms/step - loss: 0.2400 - accuracy: 0.9106\n",
            "Epoch 9/30\n",
            "1875/1875 [==============================] - 4s 2ms/step - loss: 0.2330 - accuracy: 0.9124\n",
            "Epoch 10/30\n",
            "1875/1875 [==============================] - 4s 2ms/step - loss: 0.2208 - accuracy: 0.9163\n",
            "Epoch 11/30\n",
            "1875/1875 [==============================] - 4s 2ms/step - loss: 0.2110 - accuracy: 0.9196\n",
            "Epoch 12/30\n",
            "1875/1875 [==============================] - 4s 2ms/step - loss: 0.2047 - accuracy: 0.9225\n",
            "Epoch 13/30\n",
            "1875/1875 [==============================] - 4s 2ms/step - loss: 0.1995 - accuracy: 0.9245\n",
            "Epoch 14/30\n",
            "1875/1875 [==============================] - 4s 2ms/step - loss: 0.1918 - accuracy: 0.9280\n",
            "Epoch 15/30\n",
            "1875/1875 [==============================] - 4s 2ms/step - loss: 0.1834 - accuracy: 0.9309\n",
            "Epoch 16/30\n",
            "1875/1875 [==============================] - 4s 2ms/step - loss: 0.1789 - accuracy: 0.9321\n",
            "Epoch 17/30\n",
            "1875/1875 [==============================] - 4s 2ms/step - loss: 0.1740 - accuracy: 0.9342\n",
            "Epoch 18/30\n",
            "1875/1875 [==============================] - 4s 2ms/step - loss: 0.1696 - accuracy: 0.9352\n",
            "Epoch 19/30\n",
            "1875/1875 [==============================] - 4s 2ms/step - loss: 0.1603 - accuracy: 0.9403\n",
            "Epoch 20/30\n",
            "1875/1875 [==============================] - 4s 2ms/step - loss: 0.1586 - accuracy: 0.9406\n",
            "Epoch 21/30\n",
            "1875/1875 [==============================] - 4s 2ms/step - loss: 0.1524 - accuracy: 0.9425\n",
            "Epoch 22/30\n",
            "1875/1875 [==============================] - 4s 2ms/step - loss: 0.1470 - accuracy: 0.9452\n",
            "Epoch 23/30\n",
            "1875/1875 [==============================] - 4s 2ms/step - loss: 0.1432 - accuracy: 0.9457\n",
            "Epoch 24/30\n",
            "1875/1875 [==============================] - 4s 2ms/step - loss: 0.1407 - accuracy: 0.9470\n",
            "Epoch 25/30\n",
            "1875/1875 [==============================] - 4s 2ms/step - loss: 0.1359 - accuracy: 0.9480\n",
            "Epoch 26/30\n",
            "1875/1875 [==============================] - 4s 2ms/step - loss: 0.1310 - accuracy: 0.9503\n",
            "Epoch 27/30\n",
            "1875/1875 [==============================] - 4s 2ms/step - loss: 0.1301 - accuracy: 0.9513\n",
            "Epoch 28/30\n",
            "1875/1875 [==============================] - 4s 2ms/step - loss: 0.1277 - accuracy: 0.9509\n",
            "Epoch 29/30\n",
            "1875/1875 [==============================] - 4s 2ms/step - loss: 0.1228 - accuracy: 0.9536\n",
            "Epoch 30/30\n",
            "1875/1875 [==============================] - 4s 2ms/step - loss: 0.1236 - accuracy: 0.9533\n"
          ]
        },
        {
          "output_type": "execute_result",
          "data": {
            "text/plain": [
              "<keras.callbacks.History at 0x7f9ec00e8c10>"
            ]
          },
          "metadata": {},
          "execution_count": 22
        }
      ]
    },
    {
      "cell_type": "markdown",
      "source": [
        "# New Section"
      ],
      "metadata": {
        "id": "YAb_vaM9LHIE"
      }
    },
    {
      "cell_type": "code",
      "source": [
        "import pandas as pd\n",
        "loss = pd.DataFrame(model.history.history['loss']).plot()"
      ],
      "metadata": {
        "colab": {
          "base_uri": "https://localhost:8080/"
        },
        "id": "TH5qkM4ZETgM",
        "outputId": "7c1fc659-154c-41ab-a8b1-fb0ef5d69ff8"
      },
      "execution_count": null,
      "outputs": [
        {
          "output_type": "display_data",
          "data": {
            "text/plain": [
              "<Figure size 432x288 with 1 Axes>"
            ],
            "image/png": "[encoded data removed]"
          },
          "metadata": {
            "needs_background": "light"
          }
        }
      ]
    },
    {
      "cell_type": "code",
      "source": [
        "acc = pd.DataFrame(model.history.history['accuracy']).plot()"
      ],
      "metadata": {
        "colab": {
          "base_uri": "https://localhost:8080/"
        },
        "id": "UKtL8UYIFhie",
        "outputId": "9999ce29-61a8-454d-c29d-56dadf777459"
      },
      "execution_count": null,
      "outputs": [
        {
          "output_type": "display_data",
          "data": {
            "text/plain": [
              "<Figure size 432x288 with 1 Axes>"
            ],
            "image/png": "[encoded data removed]"
          },
          "metadata": {
            "needs_background": "light"
          }
        }
      ]
    },
    {
      "cell_type": "code",
      "source": [
        "import numpy as np\n",
        "y_pred= model.predict(x_test)\n",
        "y_pred = np.argmax(y_pred,axis=1)\n",
        "y_pred"
      ],
      "metadata": {
        "colab": {
          "base_uri": "https://localhost:8080/"
        },
        "id": "MaAGgdASHRbw",
        "outputId": "a3e187f2-df7d-4da5-e025-6fa7824c1a83"
      },
      "execution_count": null,
      "outputs": [
        {
          "output_type": "execute_result",
          "data": {
            "text/plain": [
              "array([9, 2, 1, ..., 8, 1, 5])"
            ]
          },
          "metadata": {},
          "execution_count": 88
        }
      ]
    },
    {
      "cell_type": "code",
      "source": [
        "y_test"
      ],
      "metadata": {
        "colab": {
          "base_uri": "https://localhost:8080/"
        },
        "id": "IJ1dXJ1aLZGD",
        "outputId": "a7374e1c-6fb5-43f3-93e5-6b760f4fe5c0"
      },
      "execution_count": null,
      "outputs": [
        {
          "output_type": "execute_result",
          "data": {
            "text/plain": [
              "array([9, 2, 1, ..., 8, 1, 5], dtype=uint8)"
            ]
          },
          "metadata": {},
          "execution_count": 89
        }
      ]
    },
    {
      "cell_type": "code",
      "source": [
        "from sklearn.metrics import accuracy_score\n",
        "accuracy_score(y_test,y_pred)"
      ],
      "metadata": {
        "colab": {
          "base_uri": "https://localhost:8080/"
        },
        "id": "KpLj6ZTuMwiQ",
        "outputId": "7a3e8a6a-bf71-4944-90bd-10aeb1b53502"
      },
      "execution_count": null,
      "outputs": [
        {
          "output_type": "execute_result",
          "data": {
            "text/plain": [
              "0.893"
            ]
          },
          "metadata": {},
          "execution_count": 90
        }
      ]
    },
    {
      "cell_type": "code",
      "source": [
        "model.get_weights()"
      ],
      "metadata": {
        "colab": {
          "base_uri": "https://localhost:8080/"
        },
        "id": "CT9zxGqqM5Ls",
        "outputId": "6356849b-479f-4a54-ebee-6777a968f81f"
      },
      "execution_count": null,
      "outputs": [
        {
          "output_type": "execute_result",
          "data": {
            "text/plain": [
              "[array([[-0.04747195,  0.0949849 ,  0.411539  , ..., -0.34460548,\n",
              "         -0.5956632 , -0.40270513],\n",
              "        [ 0.02045394,  0.21604471,  0.13636044, ...,  0.3225728 ,\n",
              "         -0.36250126, -0.32695344],\n",
              "        [ 0.05369729,  0.06356086,  0.05013694, ...,  1.8409377 ,\n",
              "         -0.31902605, -0.41170472],\n",
              "        ...,\n",
              "        [-0.04724297, -0.0363492 , -0.18922614, ..., -0.11449146,\n",
              "          0.535702  , -0.76937324],\n",
              "        [-0.00414834,  0.07680997,  0.13434504, ...,  0.5745247 ,\n",
              "         -0.17557952, -0.57695746],\n",
              "        [-0.00235638,  0.01431408, -0.0567518 , ...,  0.3393867 ,\n",
              "         -0.12640059, -0.26687235]], dtype=float32),\n",
              " array([ 4.71869577e-03,  4.43418026e-01,  4.37825561e-01, -1.38171809e-02,\n",
              "        -4.06346202e-01,  4.11917955e-01,  2.23149538e-01,  1.11748040e+00,\n",
              "         1.41309053e-01,  2.34985709e-01,  3.04433554e-01, -1.53407222e-02,\n",
              "        -3.88735235e-01,  1.14106782e-01,  6.71118021e-01,  1.35916382e-01,\n",
              "        -2.09966004e-02,  3.68975699e-01,  2.56847501e-01, -1.82407573e-01,\n",
              "         4.36701775e-01,  4.26806092e-01,  2.31577277e-01,  5.05678952e-01,\n",
              "         4.04106438e-01,  1.90631375e-02,  6.24244325e-02,  4.94485259e-01,\n",
              "         3.25598657e-01, -3.05860579e-01, -8.93625319e-02,  1.44805789e-01,\n",
              "         2.36176923e-01, -7.66295800e-03,  3.52460593e-01,  2.54092794e-02,\n",
              "        -1.59833223e-01, -1.40195623e-01, -2.23737806e-02,  2.94818133e-01,\n",
              "         1.63037971e-01,  8.17201793e-01,  9.92224901e-04, -1.37322843e-01,\n",
              "         5.26740909e-01,  8.47585082e-01, -2.79336572e-01, -6.77775815e-02,\n",
              "         3.85907531e-01,  1.95074335e-01,  4.38817829e-01,  5.53490281e-01,\n",
              "         2.29785144e-01,  2.28039891e-01,  1.31377852e+00,  1.23056389e-01,\n",
              "        -8.22303817e-03,  7.18863457e-02,  8.44540969e-02, -5.76763898e-02,\n",
              "         2.65751570e-01, -7.16376752e-02,  1.88230455e-01,  1.27598810e+00,\n",
              "        -1.22399237e-02, -4.17630225e-02, -2.26882603e-02, -8.02819524e-03,\n",
              "        -3.39485034e-02,  5.00653088e-01,  3.81896824e-01, -2.57218704e-02,\n",
              "        -1.52546000e-02,  3.89089465e-01,  6.78772092e-01,  1.92344412e-01,\n",
              "        -2.40582172e-02,  1.59632489e-01,  4.57917690e-01,  4.10101339e-02,\n",
              "         6.40095711e-01,  8.42594653e-02, -3.62653643e-01,  4.81666438e-02,\n",
              "         1.15366295e-01,  4.94157784e-02,  4.33007926e-01,  1.09252788e-01,\n",
              "         2.30161056e-01,  9.99824405e-02,  3.23833883e-01,  3.04290235e-01,\n",
              "        -1.02173835e-01,  6.51377201e-01, -2.72841275e-01,  2.00452134e-01,\n",
              "         2.58783638e-01,  4.06521708e-01,  1.11825749e-01,  9.89963472e-01,\n",
              "         2.98116446e-01,  4.35534626e-01,  3.46954226e-01,  2.14394540e-01,\n",
              "        -1.02153271e-01,  9.20646846e-01,  6.68902636e-01,  5.45791648e-02,\n",
              "        -1.58267900e-01,  2.64336824e-01, -9.94002726e-03,  2.80797273e-01,\n",
              "         1.43974321e-02, -3.68778020e-01,  2.22091228e-01, -1.10260956e-01,\n",
              "         2.99996883e-01, -4.38336320e-02,  6.97453916e-01,  9.25838590e-01,\n",
              "         6.35950744e-01,  6.36313260e-01, -2.78824270e-01, -1.68953575e-02,\n",
              "        -1.74537264e-02,  1.95446625e-01, -1.61631815e-02,  9.63620663e-01,\n",
              "         7.32896924e-02,  8.86546224e-02,  6.84963018e-02,  3.79369557e-01,\n",
              "        -2.96884235e-02, -4.63517576e-01,  7.24568292e-02,  1.88668698e-01,\n",
              "         3.01962405e-01,  1.19233832e-01,  1.72800884e-01,  4.56119686e-01,\n",
              "         3.90962362e-01,  4.73566353e-01,  9.11542214e-03,  1.32900015e-01,\n",
              "         5.00378847e-01,  4.83147383e-01,  9.09389704e-02, -3.22231688e-02,\n",
              "         2.97291666e-01,  3.54062200e-01,  2.27857575e-01,  1.61521465e-01,\n",
              "        -3.34702842e-02,  2.74625868e-01,  6.98842108e-01,  7.93842971e-01,\n",
              "        -2.26976210e-03, -2.29652263e-02,  1.35465398e-01,  3.90619487e-01,\n",
              "         1.59853071e-01,  1.74957827e-01, -2.18281336e-03,  1.57972395e-01,\n",
              "        -2.98502352e-02,  3.57631385e-01, -3.02221209e-01,  1.36921600e-01,\n",
              "         3.48608643e-01,  3.15346986e-01,  3.77900392e-01,  3.73236127e-02,\n",
              "         3.35045934e-01, -7.27228587e-03,  4.67578202e-01,  1.54880673e-01,\n",
              "        -3.48779023e-01,  8.76691416e-02,  4.82608646e-01,  5.05881719e-02,\n",
              "        -1.71078816e-01,  2.11131826e-01,  2.69909441e-01,  1.22494549e-01,\n",
              "         4.15350705e-01,  3.26902509e-01, -1.29961940e-02,  3.41975600e-01,\n",
              "         5.77650487e-01, -4.77085933e-02,  2.52121776e-01,  2.41578072e-01,\n",
              "         3.37500200e-02, -3.79466832e-01,  2.13897735e-01, -5.96239567e-02,\n",
              "        -4.21821661e-02, -1.75033510e-02, -8.53711925e-03,  3.26513648e-01,\n",
              "         9.81240571e-01,  5.84149361e-01, -7.32715055e-03,  5.25612235e-02,\n",
              "         1.16912477e-01,  8.28810275e-01,  5.22618592e-01,  5.32294989e-01,\n",
              "        -9.50085819e-02, -2.00315472e-02, -1.67309403e-01,  3.99019867e-01,\n",
              "        -1.41597673e-01, -1.65607542e-01,  4.17694420e-01,  2.88893580e-01,\n",
              "         1.88837752e-01, -2.33577508e-02,  3.69285315e-01,  2.73845017e-01,\n",
              "        -7.91284978e-01, -5.27086377e-01,  7.32533708e-02,  2.94216871e-01,\n",
              "         3.44908535e-01,  3.82741153e-01,  2.64200211e-01, -1.29287401e-02,\n",
              "         4.10545379e-01, -2.88266391e-01,  2.76889503e-01, -9.11098346e-03,\n",
              "         7.50818849e-02, -2.64261849e-02,  1.96539193e-01, -1.68881491e-02,\n",
              "         5.07427789e-02,  6.74615026e-01,  2.96407849e-01,  4.11088943e-01,\n",
              "         2.18346179e-01,  8.49911198e-02,  4.64061290e-01,  3.28533888e-01,\n",
              "         5.67574203e-01,  3.75498265e-01,  3.97087336e-01,  3.71522814e-01,\n",
              "        -4.80874628e-01,  6.21393204e-01, -4.74658638e-01,  6.01895094e-01,\n",
              "         5.68735182e-01,  2.88145870e-01, -1.45914946e-02, -1.40996426e-01,\n",
              "         2.03199461e-01,  5.92083894e-02,  2.81000972e-01,  5.17205119e-01,\n",
              "         1.03163840e-02,  7.72364810e-02,  2.11285785e-01,  1.40020147e-01,\n",
              "         1.64690226e-01, -2.72699177e-01,  4.82277900e-01, -2.67539084e-01,\n",
              "         3.65753137e-02, -7.10369647e-02,  2.09845394e-01,  3.40191662e-01,\n",
              "         4.04419065e-01,  1.74139500e-01,  6.63536251e-01,  2.79663056e-01,\n",
              "         4.83916193e-01,  3.66476715e-01,  5.69957852e-01,  1.20288186e-01,\n",
              "         3.68136317e-02,  1.70594692e-01,  2.00594842e-01,  3.72894824e-01,\n",
              "         7.21636891e-01,  6.59382224e-01,  3.71677935e-01,  4.90351804e-02,\n",
              "         4.32801157e-01,  2.48082522e-02,  1.71706274e-01,  1.29905805e-01,\n",
              "        -1.06024489e-01,  5.84862418e-02,  2.27012143e-01,  6.07332468e-01,\n",
              "         1.21714719e-01, -1.07028885e-02,  2.04190537e-02,  3.73014778e-01,\n",
              "        -2.91251531e-03,  1.71792820e-01,  2.56647915e-01,  1.67635426e-01,\n",
              "         1.69355050e-01,  1.40683691e-03,  4.26602125e-01,  3.30030918e-01,\n",
              "         7.13120759e-01,  1.36559814e-01,  3.17999661e-01,  3.42512280e-01,\n",
              "        -5.88073671e-01,  5.55277407e-01,  4.56376910e-01, -2.45425135e-01,\n",
              "         3.32592353e-02, -1.65414270e-02,  1.61759317e-01, -3.27199757e-01,\n",
              "         5.90791516e-02, -2.33869739e-02, -2.66926698e-02,  2.89029211e-01,\n",
              "        -9.90843773e-03,  4.00802791e-01, -1.14283554e-01,  5.55475354e-01,\n",
              "        -2.89417822e-02,  7.24438280e-02,  4.00337517e-01,  5.52426931e-03,\n",
              "         4.48131204e-01,  1.19197018e-01, -9.60445851e-02, -2.03937858e-01,\n",
              "         1.61058456e-01,  3.74783903e-01,  1.88583314e-01, -7.36736059e-02,\n",
              "         4.89483774e-01, -2.79111743e-01, -1.40125439e-01,  9.71392468e-02,\n",
              "         1.57410741e-01, -2.05750950e-02,  6.56972304e-02,  1.92099750e-01,\n",
              "        -9.19564627e-03,  3.04713070e-01, -4.79689032e-01, -1.54281333e-01,\n",
              "        -2.56097704e-01,  3.58394712e-01,  2.17331111e-01,  4.16401401e-02,\n",
              "         3.90060507e-02,  7.13250041e-02,  4.45373178e-01, -1.40376225e-01,\n",
              "         2.06283197e-01,  1.79974064e-01,  3.18938285e-01,  5.60894012e-01,\n",
              "         6.12214506e-02, -3.14700007e-01,  1.45977959e-01,  3.47906560e-01,\n",
              "        -3.71469148e-02, -8.24470539e-03,  5.98464370e-01,  2.36940920e-01,\n",
              "         1.43006012e-01,  3.84089530e-01,  2.06034213e-01,  8.93420875e-01,\n",
              "         3.06376189e-01,  1.67723656e-01,  7.71069050e-01,  1.15188528e-02,\n",
              "         3.32558006e-01, -1.10163996e-02,  1.45348653e-01,  4.29096907e-01,\n",
              "         1.23337485e-01, -1.73498597e-02,  1.74296588e-01,  3.83253366e-01,\n",
              "         6.52819693e-01,  3.04614216e-01,  1.29861012e-01,  2.44236887e-01,\n",
              "         1.68475155e-02, -2.04305202e-02,  3.13247323e-01,  4.73575175e-01,\n",
              "        -2.73874160e-02,  5.71992993e-01,  3.60441804e-01,  1.74634427e-01,\n",
              "        -3.78280990e-02,  4.15880591e-01,  1.95260018e-01,  2.61187673e-01,\n",
              "        -2.18059868e-02,  3.43904227e-01,  3.70146722e-01,  8.24480504e-02,\n",
              "         5.36771417e-01, -5.13399625e-03, -2.56701350e-01,  2.30664182e-02,\n",
              "        -8.32082480e-02, -7.27303848e-02,  5.64521551e-01,  3.21892202e-02,\n",
              "        -1.55636817e-02,  5.45433879e-01, -6.05068468e-02, -2.03631129e-02,\n",
              "        -2.06661876e-02,  5.87916255e-01, -7.37103149e-02,  2.82130957e-01,\n",
              "         7.86037862e-01, -2.11977065e-01,  3.16838741e-01,  1.18711807e-01,\n",
              "         7.30692521e-02, -1.55462131e-01,  1.73253402e-01, -3.69370654e-02,\n",
              "         6.14810884e-01,  4.34075475e-01,  3.17927450e-02, -9.36210901e-02,\n",
              "         3.82175595e-01,  6.37474120e-01,  2.45955154e-01,  5.64769387e-01,\n",
              "         2.38515623e-02,  6.45738423e-01,  1.39624491e-01,  3.77432078e-01,\n",
              "         5.06783843e-01, -1.17932856e-01, -8.67363140e-02, -3.40032041e-01,\n",
              "         4.18572694e-01,  5.99794328e-01, -5.34253955e-01, -1.05356961e-01,\n",
              "         9.98632684e-02, -1.76761001e-01,  7.54669726e-01, -3.62089008e-01,\n",
              "         8.07175994e-01,  2.14371122e-02,  1.83063131e-02,  2.63070762e-01,\n",
              "         6.91223145e-01,  7.83304334e-01,  7.05796123e-01, -9.66911018e-03,\n",
              "         4.74546224e-01,  2.70487100e-01, -1.77551687e-01,  1.48324654e-01,\n",
              "         5.80497742e-01,  1.89410951e-02,  1.85043663e-01,  2.12232739e-01,\n",
              "        -1.05322808e-01,  4.32467133e-01,  3.19647849e-01,  5.34671962e-01,\n",
              "        -2.22439524e-02,  6.46544278e-01,  1.14017464e-01,  5.71886450e-02,\n",
              "         8.13906968e-01,  5.85130118e-02,  2.86891162e-01,  4.54818040e-01,\n",
              "         3.52676451e-01, -8.17980468e-02,  2.61149377e-01,  2.19989866e-01,\n",
              "         5.28083265e-01,  8.08912277e-01,  1.91315383e-01,  4.85530108e-01,\n",
              "         4.39394802e-01,  2.89075207e-02,  8.67713243e-02,  7.10121810e-01,\n",
              "         3.17221344e-01, -6.58636987e-02, -1.08579900e-02,  7.71297932e-01,\n",
              "         1.97358087e-01,  2.42670879e-01,  2.59130478e-01,  2.19719306e-01,\n",
              "         2.23160893e-01,  6.33798838e-01,  1.81036457e-01,  6.49315864e-02,\n",
              "        -2.26226047e-01,  3.98848541e-02,  1.99966148e-01,  4.26189631e-01,\n",
              "        -8.90320837e-02,  2.96644360e-01, -3.82196866e-02,  4.99732941e-01,\n",
              "         3.33397955e-01,  6.03150427e-01,  1.90811115e-03,  7.40095004e-02,\n",
              "         3.13212544e-01, -6.31203270e-03, -2.50476636e-02,  5.98514378e-01,\n",
              "        -3.89049426e-02,  2.15118513e-01,  4.81555253e-01,  7.82771409e-03,\n",
              "         1.31869659e-01,  8.64066064e-01,  4.96167719e-01,  5.26477516e-01],\n",
              "       dtype=float32),\n",
              " array([[-0.55435497, -0.555871  , -0.43040904, ...,  0.09033833,\n",
              "         -0.47062647,  0.28423837],\n",
              "        [ 0.0053029 , -0.36925876, -0.10853542, ..., -0.07768111,\n",
              "         -0.19505616, -0.01231877],\n",
              "        [-0.22966957, -0.51683325, -0.473403  , ..., -0.36735538,\n",
              "          0.20922478, -0.5984041 ],\n",
              "        ...,\n",
              "        [ 0.18014427, -0.6126378 , -0.49253568, ..., -1.9929776 ,\n",
              "         -0.13915569,  0.04996847],\n",
              "        [-0.10035089, -0.6025087 ,  0.32258925, ...,  0.35298353,\n",
              "         -0.34905258, -0.59971374],\n",
              "        [ 0.38712433, -0.4388662 , -0.07416212, ..., -0.3627271 ,\n",
              "          0.03506408, -0.22898267]], dtype=float32),\n",
              " array([-0.17927392, -0.6657533 ,  0.20972553,  0.61362165, -0.47283742,\n",
              "        -0.21544339,  0.20240813,  0.19007485,  0.24355637, -0.42072624],\n",
              "       dtype=float32)]"
            ]
          },
          "metadata": {},
          "execution_count": 91
        }
      ]
    },
    {
      "cell_type": "code",
      "source": [
        "model.save('fashion.hdf5')"
      ],
      "metadata": {
        "id": "k8Tz-bjzNcxh"
      },
      "execution_count": null,
      "outputs": []
    },
    {
      "cell_type": "code",
      "source": [],
      "metadata": {
        "id": "arexYQ0iN1FF"
      },
      "execution_count": null,
      "outputs": []
    }
  ]
}